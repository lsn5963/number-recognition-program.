{
  "nbformat": 4,
  "nbformat_minor": 0,
  "metadata": {
    "colab": {
      "name": "다중숫자인식(부가2)",
      "provenance": [],
      "collapsed_sections": []
    },
    "kernelspec": {
      "name": "python3",
      "display_name": "Python 3"
    },
    "language_info": {
      "name": "python"
    },
    "accelerator": "GPU"
  },
  "cells": [
    {
      "cell_type": "code",
      "metadata": {
        "colab": {
          "base_uri": "https://localhost:8080/"
        },
        "id": "joAHUeGK-21K",
        "outputId": "11b67a46-154e-49b6-8949-738f7d7913df"
      },
      "source": [
        "import tensorflow as tf\n",
        "print(tf.__version__)\n",
        "import warnings\n",
        "warnings.filterwarnings('ignore')"
      ],
      "execution_count": null,
      "outputs": [
        {
          "output_type": "stream",
          "name": "stdout",
          "text": [
            "2.7.0\n"
          ]
        }
      ]
    },
    {
      "cell_type": "code",
      "metadata": {
        "id": "3RyYcFdY_Eda"
      },
      "source": [
        "from IPython.display import display, Javascript\n",
        "from google.colab.output import eval_js\n",
        "from base64 import b64decode\n",
        "\n",
        "def take_photo(filename='photo.jpg', quality=0.8):\n",
        "  js = Javascript('''\n",
        "    async function takePhoto(quality) {\n",
        "      const div = document.createElement('div');\n",
        "      const capture = document.createElement('button');\n",
        "      capture.textContent = 'Capture';\n",
        "      div.appendChild(capture);\n",
        "\n",
        "      const video = document.createElement('video');\n",
        "      video.style.display = 'block';\n",
        "      const stream = await navigator.mediaDevices.getUserMedia({video: true});\n",
        "\n",
        "      document.body.appendChild(div);\n",
        "      div.appendChild(video);\n",
        "      video.srcObject = stream;\n",
        "      await video.play();\n",
        "\n",
        "      // Resize the output to fit the video element.\n",
        "      google.colab.output.setIframeHeight(document.documentElement.scrollHeight, true);\n",
        "\n",
        "      // Wait for Capture to be clicked.\n",
        "      await new Promise((resolve) => capture.onclick = resolve);\n",
        "\n",
        "      const canvas = document.createElement('canvas');\n",
        "      canvas.width = video.videoWidth;\n",
        "      canvas.height = video.videoHeight;\n",
        "      canvas.getContext('2d').drawImage(video, 0, 0);\n",
        "      stream.getVideoTracks()[0].stop();\n",
        "      div.remove();\n",
        "      return canvas.toDataURL('image/jpeg', quality);\n",
        "    }\n",
        "    ''')\n",
        "  display(js)\n",
        "  data = eval_js('takePhoto({})'.format(quality))\n",
        "  binary = b64decode(data.split(',')[1])\n",
        "  with open(filename, 'wb') as f:\n",
        "    f.write(binary)\n",
        "  return filename"
      ],
      "execution_count": null,
      "outputs": []
    },
    {
      "cell_type": "code",
      "metadata": {
        "id": "jOWYSeMDVIHJ"
      },
      "source": [
        "from keras.datasets import mnist\n",
        "from tensorflow.keras.utils import to_categorical\n",
        "\n",
        "(train_images, train_labels), (test_images, test_labels) = mnist.load_data()\n",
        "\n",
        "train_images = train_images.reshape((60000, 28, 28, 1))\n",
        "train_images = train_images.astype('float32') / 255\n",
        "\n",
        "test_images = test_images.reshape((10000, 28, 28, 1))\n",
        "test_images = test_images.astype('float32') / 255\n",
        "\n",
        "train_labels = to_categorical(train_labels)\n",
        "test_labels = to_categorical(test_labels)"
      ],
      "execution_count": null,
      "outputs": []
    },
    {
      "cell_type": "code",
      "metadata": {
        "id": "n2XASY7i1rAi"
      },
      "source": [
        "#모델은 단계 1,2,3 에서 구현한 모델로 하였습니다."
      ],
      "execution_count": null,
      "outputs": []
    },
    {
      "cell_type": "code",
      "metadata": {
        "colab": {
          "base_uri": "https://localhost:8080/"
        },
        "id": "ykbJdu4MUYP4",
        "outputId": "762eea4e-63ee-4fa9-dd4f-c1c91162d3ba"
      },
      "source": [
        "\n",
        "from keras import layers \n",
        "from keras import models\n",
        "model = models.Sequential()\n",
        "model.add(layers.Conv2D(32, (3, 3), activation='relu', input_shape=(28, 28, 1)))\n",
        "model.add(layers.Conv2D(32, (3, 3), activation='relu'))\n",
        "model.add(layers.MaxPooling2D((2, 2)))\n",
        "model.add(layers.Conv2D(64, (3, 3), activation='relu',name = 'check'))\n",
        "model.add(layers.Conv2D(64, (3, 3), activation='relu'))\n",
        "model.add(layers.MaxPooling2D((2, 2)))\n",
        "model.add(layers.Flatten())\n",
        "model.add(layers.Dense(32, activation='relu'))\n",
        "model.add(layers.Dense(10, activation='softmax', name = 'last'))\n",
        "\n",
        "model.compile(optimizer='rmsprop',\n",
        "              loss='categorical_crossentropy',\n",
        "              metrics=['accuracy'])\n",
        "model.summary()"
      ],
      "execution_count": null,
      "outputs": [
        {
          "output_type": "stream",
          "name": "stdout",
          "text": [
            "Model: \"sequential\"\n",
            "_________________________________________________________________\n",
            " Layer (type)                Output Shape              Param #   \n",
            "=================================================================\n",
            " conv2d (Conv2D)             (None, 26, 26, 32)        320       \n",
            "                                                                 \n",
            " conv2d_1 (Conv2D)           (None, 24, 24, 32)        9248      \n",
            "                                                                 \n",
            " max_pooling2d (MaxPooling2D  (None, 12, 12, 32)       0         \n",
            " )                                                               \n",
            "                                                                 \n",
            " check (Conv2D)              (None, 10, 10, 64)        18496     \n",
            "                                                                 \n",
            " conv2d_2 (Conv2D)           (None, 8, 8, 64)          36928     \n",
            "                                                                 \n",
            " max_pooling2d_1 (MaxPooling  (None, 4, 4, 64)         0         \n",
            " 2D)                                                             \n",
            "                                                                 \n",
            " flatten (Flatten)           (None, 1024)              0         \n",
            "                                                                 \n",
            " dense (Dense)               (None, 32)                32800     \n",
            "                                                                 \n",
            " last (Dense)                (None, 10)                330       \n",
            "                                                                 \n",
            "=================================================================\n",
            "Total params: 98,122\n",
            "Trainable params: 98,122\n",
            "Non-trainable params: 0\n",
            "_________________________________________________________________\n"
          ]
        }
      ]
    },
    {
      "cell_type": "code",
      "metadata": {
        "colab": {
          "base_uri": "https://localhost:8080/"
        },
        "id": "qdZPqMevVKjd",
        "outputId": "df63f466-ed84-4e31-ef32-0e8467660945"
      },
      "source": [
        "model.compile(optimizer='rmsprop',\n",
        "              loss='categorical_crossentropy',\n",
        "              metrics=['accuracy'])\n",
        "model.fit(train_images, train_labels, epochs=5, batch_size=64)"
      ],
      "execution_count": null,
      "outputs": [
        {
          "output_type": "stream",
          "name": "stdout",
          "text": [
            "Epoch 1/5\n",
            "938/938 [==============================] - 12s 11ms/step - loss: 0.1796 - accuracy: 0.9439\n",
            "Epoch 2/5\n",
            "938/938 [==============================] - 10s 11ms/step - loss: 0.0460 - accuracy: 0.9858\n",
            "Epoch 3/5\n",
            "938/938 [==============================] - 10s 10ms/step - loss: 0.0318 - accuracy: 0.9905\n",
            "Epoch 4/5\n",
            "938/938 [==============================] - 10s 11ms/step - loss: 0.0241 - accuracy: 0.9924\n",
            "Epoch 5/5\n",
            "938/938 [==============================] - 10s 10ms/step - loss: 0.0195 - accuracy: 0.9940\n"
          ]
        },
        {
          "output_type": "execute_result",
          "data": {
            "text/plain": [
              "<keras.callbacks.History at 0x7f7e501f22d0>"
            ]
          },
          "metadata": {},
          "execution_count": 6
        }
      ]
    },
    {
      "cell_type": "code",
      "metadata": {
        "colab": {
          "base_uri": "https://localhost:8080/"
        },
        "id": "J7RSrSsAYGDY",
        "outputId": "a017f4fd-0fe1-4cf0-e5a6-1e8dd0322661"
      },
      "source": [
        "test_loss, test_acc = model.evaluate(test_images, test_labels)\n",
        "test_acc"
      ],
      "execution_count": null,
      "outputs": [
        {
          "output_type": "stream",
          "name": "stdout",
          "text": [
            "313/313 [==============================] - 2s 5ms/step - loss: 0.0203 - accuracy: 0.9933\n"
          ]
        },
        {
          "output_type": "execute_result",
          "data": {
            "text/plain": [
              "0.9933000206947327"
            ]
          },
          "metadata": {},
          "execution_count": 7
        }
      ]
    },
    {
      "cell_type": "code",
      "metadata": {
        "colab": {
          "base_uri": "https://localhost:8080/",
          "height": 515
        },
        "id": "dSFDdpNyDMb-",
        "outputId": "17520ac0-0f2b-4d66-ad53-9d6d07a3869c"
      },
      "source": [
        "from IPython.display import Image\n",
        "\n",
        "filename = take_photo()\n",
        "print('Saved to {}'.format(filename))\n",
        "  \n",
        "display(Image(filename))"
      ],
      "execution_count": null,
      "outputs": [
        {
          "output_type": "display_data",
          "data": {
            "application/javascript": [
              "\n",
              "    async function takePhoto(quality) {\n",
              "      const div = document.createElement('div');\n",
              "      const capture = document.createElement('button');\n",
              "      capture.textContent = 'Capture';\n",
              "      div.appendChild(capture);\n",
              "\n",
              "      const video = document.createElement('video');\n",
              "      video.style.display = 'block';\n",
              "      const stream = await navigator.mediaDevices.getUserMedia({video: true});\n",
              "\n",
              "      document.body.appendChild(div);\n",
              "      div.appendChild(video);\n",
              "      video.srcObject = stream;\n",
              "      await video.play();\n",
              "\n",
              "      // Resize the output to fit the video element.\n",
              "      google.colab.output.setIframeHeight(document.documentElement.scrollHeight, true);\n",
              "\n",
              "      // Wait for Capture to be clicked.\n",
              "      await new Promise((resolve) => capture.onclick = resolve);\n",
              "\n",
              "      const canvas = document.createElement('canvas');\n",
              "      canvas.width = video.videoWidth;\n",
              "      canvas.height = video.videoHeight;\n",
              "      canvas.getContext('2d').drawImage(video, 0, 0);\n",
              "      stream.getVideoTracks()[0].stop();\n",
              "      div.remove();\n",
              "      return canvas.toDataURL('image/jpeg', quality);\n",
              "    }\n",
              "    "
            ],
            "text/plain": [
              "<IPython.core.display.Javascript object>"
            ]
          },
          "metadata": {}
        },
        {
          "output_type": "stream",
          "name": "stdout",
          "text": [
            "Saved to photo.jpg\n"
          ]
        },
        {
          "output_type": "display_data",
          "data": {
            "image/jpeg": "[encoded data removed]",
            "text/plain": [
              "<IPython.core.display.Image object>"
            ]
          },
          "metadata": {}
        }
      ]
    },
    {
      "cell_type": "code",
      "metadata": {
        "id": "ma7W_n_v_xqb",
        "colab": {
          "base_uri": "https://localhost:8080/",
          "height": 113
        },
        "outputId": "05b4444b-48da-4632-b38c-2b4ef1800fa6"
      },
      "source": [
        "import cv2\n",
        "import numpy as np\n",
        "import matplotlib.pyplot as plt\n",
        "from google.colab.patches import cv2_imshow\n",
        "%matplotlib inline\n",
        "src = cv2.imread(filename, cv2.IMREAD_GRAYSCALE)\n",
        "\n",
        "#이미지의 크기가 워낙 크기 때문에 5분의1로 줄여서 확인을 합니다.\n",
        "\n",
        "src = cv2.resize(src , (int(src.shape[1]/5),int(src.shape[0]/5)))\n",
        "cv2_imshow(src)\n"
      ],
      "execution_count": null,
      "outputs": [
        {
          "output_type": "display_data",
          "data": {
            "image/png": "[encoded data removed]",
            "text/plain": [
              "<PIL.Image.Image image mode=L size=128x96 at 0x7F7D64C68F10>"
            ]
          },
          "metadata": {}
        }
      ]
    },
    {
      "cell_type": "code",
      "metadata": {
        "id": "U_GvCsBXPBVa"
      },
      "source": [
        "#양 옆의 노이즈를 제거합니다.(만약 노이즈가 없다거나 사진을 다시찍을 경우 이 코드는 필요가 없습니다.)\n",
        "src = src[1:src.shape[0]-5, 10:src.shape[1]-38] "
      ],
      "execution_count": null,
      "outputs": []
    },
    {
      "cell_type": "code",
      "metadata": {
        "colab": {
          "base_uri": "https://localhost:8080/",
          "height": 107
        },
        "id": "QO41myqvJPL6",
        "outputId": "51944f83-faee-40c9-8bcf-236cab563d60"
      },
      "source": [
        "\n",
        "\n",
        "#영상 이진화를 해줍니다.(사람마다 카메라의 상태가 다르기 때문에 필요시 보정이 필요합니다.)\n",
        "ret , binary = cv2.threshold(src,105,255,cv2.THRESH_BINARY_INV) \n",
        "\n",
        "cv2_imshow(binary)"
      ],
      "execution_count": null,
      "outputs": [
        {
          "output_type": "display_data",
          "data": {
            "image/png": "[encoded data removed]",
            "text/plain": [
              "<PIL.Image.Image image mode=L size=80x90 at 0x7F7D5BBE1D10>"
            ]
          },
          "metadata": {}
        }
      ]
    },
    {
      "cell_type": "code",
      "metadata": {
        "id": "kN_KikcNPLQr"
      },
      "source": [
        "contours , hierarchy = cv2.findContours(binary , cv2.RETR_EXTERNAL , cv2.CHAIN_APPROX_SIMPLE) #외곽선 검출 을 해줍니다.\n",
        "color = cv2.cvtColor(binary, cv2.COLOR_GRAY2BGR) #이진화 이미지를 color이미지로 복사를 해줍니다.(확인용)\n",
        "cv2.drawContours(color , contours , -1 , (0,255,0),3) #초록색으로 외곽선을 그려줍니다.\n",
        "\n",
        "#리스트연산을 위해 초기변수 선언해줍니다.\n",
        "bR_arr = []\n",
        "digit_arr = []\n",
        "digit_arr2 = []\n",
        "count = 0 \n",
        "#검출한 외곽선에 사각형을 그려서 배열에 추가해줍니다.\n",
        "for i in range(len(contours)) : \n",
        "  bin_tmp = binary.copy() \n",
        "  x,y,w,h = cv2.boundingRect(contours[i]) \n",
        "  bR_arr.append([x,y,w,h])\n"
      ],
      "execution_count": null,
      "outputs": []
    },
    {
      "cell_type": "code",
      "metadata": {
        "colab": {
          "base_uri": "https://localhost:8080/"
        },
        "id": "JS6eTSVeP3AF",
        "outputId": "9b90f457-6074-42d6-9f17-6372e800151d"
      },
      "source": [
        "# 사각형을 만들어서 손글씨를 나누어 주었지만 배열을 확인해보면 랜덤하게 박스가 생성되었다는 것을 알 수 있습니다.\n",
        "print(bR_arr[:5])"
      ],
      "execution_count": null,
      "outputs": [
        {
          "output_type": "stream",
          "name": "stdout",
          "text": [
            "[[55, 69, 15, 21], [31, 67, 12, 23], [7, 65, 15, 25], [4, 40, 18, 22], [56, 39, 14, 22]]\n"
          ]
        }
      ]
    },
    {
      "cell_type": "code",
      "metadata": {
        "colab": {
          "base_uri": "https://localhost:8080/"
        },
        "id": "sjLJR18MP5QX",
        "outputId": "2fc22a94-4778-4153-8801-5414a4cc90a8"
      },
      "source": [
        "#x값을 기준으로 배열을 정렬을 합니다.\n",
        "bR_arr = sorted(bR_arr, key=lambda num : num[0], reverse = False)\n",
        "print(bR_arr[:5])\n"
      ],
      "execution_count": null,
      "outputs": [
        {
          "output_type": "stream",
          "name": "stdout",
          "text": [
            "[[4, 40, 18, 22], [7, 65, 15, 25], [14, 10, 8, 20], [29, 38, 15, 26], [29, 12, 17, 19]]\n"
          ]
        }
      ]
    },
    {
      "cell_type": "code",
      "metadata": {
        "colab": {
          "base_uri": "https://localhost:8080/",
          "height": 107
        },
        "id": "P8hd3FslQLOW",
        "outputId": "af308130-38bb-4e9f-cc84-e523f659efe0"
      },
      "source": [
        "#작은 노이즈데이터 버림,사각형그리기,12개씩 리스트로 다시 묶어서 저장을 해줍니다.\n",
        "\n",
        "for x,y,w,h in bR_arr :\n",
        "  tmp_y = bin_tmp[y-2:y+h+2,x-2:x+w+2].shape[0]\n",
        "  tmp_x = bin_tmp[y-2:y+h+2,x-2:x+w+2].shape[1]\n",
        "  if  tmp_x and tmp_y > 10 :\n",
        "    count += 1 \n",
        "    cv2.rectangle(color,(x-2,y-2),(x+w+2,y+h+2),(0,0,255),1) \n",
        "    digit_arr.append(bin_tmp[y-2:y+h+2,x-2:x+w+2]) \n",
        "    if count == 12 : \n",
        "      digit_arr2.append(digit_arr) \n",
        "      digit_arr = [] \n",
        "      count = 0 \n",
        "cv2_imshow(color) \n"
      ],
      "execution_count": null,
      "outputs": [
        {
          "output_type": "display_data",
          "data": {
            "image/png": "[encoded data removed]",
            "text/plain": [
              "<PIL.Image.Image image mode=RGB size=80x90 at 0x7F7D5BBE1050>"
            ]
          },
          "metadata": {}
        }
      ]
    },
    {
      "cell_type": "code",
      "metadata": {
        "colab": {
          "base_uri": "https://localhost:8080/",
          "height": 374
        },
        "id": "4VyMun9tSwKL",
        "outputId": "c83e8067-6d3b-444d-b9ce-8d83cc20cdde"
      },
      "source": [
        "# digit_arr[0]에 들어가있는 사진을 확인해봅니다.\n",
        "plt.figure(figsize=(8,6))\n",
        "plt.imshow(digit_arr[0]);"
      ],
      "execution_count": null,
      "outputs": [
        {
          "output_type": "display_data",
          "data": {
            "image/png": "[encoded data removed]",
            "text/plain": [
              "<Figure size 576x432 with 1 Axes>"
            ]
          },
          "metadata": {
            "needs_background": "light"
          }
        }
      ]
    },
    {
      "cell_type": "code",
      "metadata": {
        "colab": {
          "base_uri": "https://localhost:8080/",
          "height": 434
        },
        "id": "hf072-n9ZNEc",
        "outputId": "3110e290-a454-4d35-c4d4-00807ea4beb0"
      },
      "source": [
        "from tensorflow.keras.applications.nasnet import preprocess_input, decode_predictions\n",
        "count = 0\n",
        "nrows = 3\n",
        "ncols = 4\n",
        "for n in digit_arr:\n",
        "    img = cv2.resize(n,(28,28))\n",
        "    cv2_imshow(img)\n",
        "    img = img.reshape((-1,28,28,1))\n",
        "    \n",
        "    x = np.array(img)\n",
        "    x = preprocess_input(x)\n",
        "    \n",
        "    preds = model.predict(x)\n",
        "    print('Predicted:', np.argmax(preds, axis=-1))\n",
        "    "
      ],
      "execution_count": null,
      "outputs": [
        {
          "output_type": "display_data",
          "data": {
            "image/png": "[encoded data removed]",
            "text/plain": [
              "<PIL.Image.Image image mode=L size=28x28 at 0x7F7D5BB50150>"
            ]
          },
          "metadata": {}
        },
        {
          "output_type": "stream",
          "name": "stdout",
          "text": [
            "Predicted: [4]\n"
          ]
        },
        {
          "output_type": "display_data",
          "data": {
            "image/png": "[encoded data removed]",
            "text/plain": [
              "<PIL.Image.Image image mode=L size=28x28 at 0x7F7D5BBED750>"
            ]
          },
          "metadata": {}
        },
        {
          "output_type": "stream",
          "name": "stdout",
          "text": [
            "Predicted: [2]\n"
          ]
        },
        {
          "output_type": "display_data",
          "data": {
            "image/png": "[encoded data removed]",
            "text/plain": [
              "<PIL.Image.Image image mode=L size=28x28 at 0x7F7D5BBDD610>"
            ]
          },
          "metadata": {}
        },
        {
          "output_type": "stream",
          "name": "stdout",
          "text": [
            "Predicted: [1]\n"
          ]
        },
        {
          "output_type": "display_data",
          "data": {
            "image/png": "[encoded data removed]",
            "text/plain": [
              "<PIL.Image.Image image mode=L size=28x28 at 0x7F7D64C26310>"
            ]
          },
          "metadata": {}
        },
        {
          "output_type": "stream",
          "name": "stdout",
          "text": [
            "Predicted: [5]\n"
          ]
        },
        {
          "output_type": "display_data",
          "data": {
            "image/png": "[encoded data removed]",
            "text/plain": [
              "<PIL.Image.Image image mode=L size=28x28 at 0x7F7D64B84890>"
            ]
          },
          "metadata": {}
        },
        {
          "output_type": "stream",
          "name": "stdout",
          "text": [
            "Predicted: [2]\n"
          ]
        },
        {
          "output_type": "display_data",
          "data": {
            "image/png": "[encoded data removed]",
            "text/plain": [
              "<PIL.Image.Image image mode=L size=28x28 at 0x7F7D64BB2750>"
            ]
          },
          "metadata": {}
        },
        {
          "output_type": "stream",
          "name": "stdout",
          "text": [
            "Predicted: [2]\n"
          ]
        },
        {
          "output_type": "display_data",
          "data": {
            "image/png": "[encoded data removed]",
            "text/plain": [
              "<PIL.Image.Image image mode=L size=28x28 at 0x7F7D64B7A890>"
            ]
          },
          "metadata": {}
        },
        {
          "output_type": "stream",
          "name": "stdout",
          "text": [
            "Predicted: [9]\n"
          ]
        },
        {
          "output_type": "display_data",
          "data": {
            "image/png": "[encoded data removed]",
            "text/plain": [
              "<PIL.Image.Image image mode=L size=28x28 at 0x7F7D64B77E90>"
            ]
          },
          "metadata": {}
        },
        {
          "output_type": "stream",
          "name": "stdout",
          "text": [
            "Predicted: [6]\n"
          ]
        },
        {
          "output_type": "display_data",
          "data": {
            "image/png": "[encoded data removed]",
            "text/plain": [
              "<PIL.Image.Image image mode=L size=28x28 at 0x7F7D64B331D0>"
            ]
          },
          "metadata": {}
        },
        {
          "output_type": "stream",
          "name": "stdout",
          "text": [
            "Predicted: [3]\n"
          ]
        }
      ]
    },
    {
      "cell_type": "markdown",
      "metadata": {
        "id": "j87Laejh4thA"
      },
      "source": [
        "아쉽게도 숫자예측이 100%일치하지 않았습니다. img를 봤을때는 mode.predict에 입력이 잘 들어간 것 같지만 웹캠 카메라 특성상 빛번짐 또는 화질 때문에 제대로 인식이 안됐거나 img = cv2.resize(n,(28,28)) 이후 전처리 과정에서 데이터 손실이 난 것 같습니다. 그래도 9개중 2~3개를 제외하고 숫자를 잘 예측을 한다는 면에서는 긍정적인 것 같습니다."
      ]
    }
  ]
}